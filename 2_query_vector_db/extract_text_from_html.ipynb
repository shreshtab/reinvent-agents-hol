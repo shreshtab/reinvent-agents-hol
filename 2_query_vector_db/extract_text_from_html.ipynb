{
 "cells": [
  {
   "cell_type": "markdown",
   "id": "6c4ecf87-583f-4a2b-83bb-2b25295c4ceb",
   "metadata": {},
   "source": [
    "# Extract Text from HTML"
   ]
  },
  {
   "cell_type": "code",
   "execution_count": 1,
   "id": "575e2e26-262c-4c14-b592-da3f25e10c4e",
   "metadata": {},
   "outputs": [],
   "source": [
    "from bs4 import BeautifulSoup\n",
    "import os"
   ]
  },
  {
   "cell_type": "code",
   "execution_count": 2,
   "id": "b5f9125e",
   "metadata": {},
   "outputs": [],
   "source": [
    "def remove_non_ascii(s):\n",
    "    return \"\".join(i for i in s if ord(i) < 128)\n",
    "\n",
    "# Function to extract text from an HTML file\n",
    "def extract_text_from_html(html_file, txt_file):\n",
    "    with open(html_file, 'r', encoding='utf-8') as f:\n",
    "        html_content = f.read()\n",
    "\n",
    "    # Parse the HTML content using BeautifulSoup\n",
    "    soup = BeautifulSoup(html_content, 'lxml')  # You can use 'html.parser' as well\n",
    "\n",
    "    # Extract text from the parsed HTML (this removes all tags)\n",
    "    soup_text = soup.get_text()\n",
    "    soup_text = soup_text.replace('\\n', ' ')\n",
    "    soup_text = remove_non_ascii(soup_text)\n",
    "\n",
    "    # Save the extracted text to a .txt file\n",
    "    with open(txt_file, 'w', encoding='utf-8') as f:\n",
    "        f.write(soup_text)\n",
    "\n",
    "def extract_text_from_html_files_in_directory(input_directory, output_directory):\n",
    "    # Ensure the output directory exists, create it if not\n",
    "    if not os.path.exists(output_directory):\n",
    "        os.makedirs(output_directory)\n",
    "\n",
    "    # Loop through all HTML files in the input directory\n",
    "    for filename in os.listdir(input_directory):\n",
    "        if filename.endswith('.html'):\n",
    "            html_file = os.path.join(input_directory, filename)\n",
    "            \n",
    "            # Set the corresponding .txt file path in the output directory\n",
    "            txt_file = os.path.join(output_directory, f\"{os.path.splitext(filename)[0]}.txt\")\n",
    "            \n",
    "            # Extract the text from HTML and save to the new directory\n",
    "            extract_text_from_html(html_file, txt_file)\n",
    "            print(f\"Processed {html_file} -> {txt_file}\")\n",
    "\n",
    "# def extract_text_from_html_files_in_directory(directory):\n",
    "#     for filename in os.listdir(directory):\n",
    "#         if filename.endswith('.html'):\n",
    "#             html_file = os.path.join(directory, filename)\n",
    "#             txt_file = os.path.join(directory, f\"{os.path.splitext(filename)[0]}.txt\")\n",
    "#             extract_text_from_html(html_file, txt_file)\n",
    "#             print(f\"Processed {html_file} -> {txt_file}\")"
   ]
  },
  {
   "cell_type": "code",
   "execution_count": 3,
   "id": "382f7007",
   "metadata": {},
   "outputs": [
    {
     "name": "stdout",
     "output_type": "stream",
     "text": [
      "Processed data/privacy_policy.html -> /home/cdsw/3_populate_vector_db/parsed/privacy_policy.txt\n",
      "Processed data/shipping_policy.html -> /home/cdsw/3_populate_vector_db/parsed/shipping_policy.txt\n",
      "Processed data/return_policy.html -> /home/cdsw/3_populate_vector_db/parsed/return_policy.txt\n"
     ]
    }
   ],
   "source": [
    "# Example usage\n",
    "directory = 'data'  # Directory containing HTML files\n",
    "extract_text_from_html_files_in_directory(directory, \"/home/cdsw/3_populate_vector_db/parsed\")"
   ]
  },
  {
   "cell_type": "code",
   "execution_count": null,
   "id": "26474ff1",
   "metadata": {},
   "outputs": [],
   "source": []
  }
 ],
 "metadata": {
  "kernelspec": {
   "display_name": "Python 3 (ipykernel)",
   "language": "python",
   "name": "python3"
  },
  "language_info": {
   "codemirror_mode": {
    "name": "ipython",
    "version": 3
   },
   "file_extension": ".py",
   "mimetype": "text/x-python",
   "name": "python",
   "nbconvert_exporter": "python",
   "pygments_lexer": "ipython3",
   "version": "3.10.14"
  }
 },
 "nbformat": 4,
 "nbformat_minor": 5
}
