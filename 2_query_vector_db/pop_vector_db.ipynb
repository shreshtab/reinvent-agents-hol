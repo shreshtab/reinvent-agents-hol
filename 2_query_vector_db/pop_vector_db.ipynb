{
 "cells": [
  {
   "cell_type": "markdown",
   "metadata": {},
   "source": [
    "# Populate Vector DB"
   ]
  },
  {
   "cell_type": "code",
   "execution_count": 1,
   "metadata": {},
   "outputs": [
    {
     "name": "stderr",
     "output_type": "stream",
     "text": [
      "/home/cdsw/.local/lib/python3.10/site-packages/tqdm/auto.py:21: TqdmWarning: IProgress not found. Please update jupyter and ipywidgets. See https://ipywidgets.readthedocs.io/en/stable/user_install.html\n",
      "  from .autonotebook import tqdm as notebook_tqdm\n"
     ]
    }
   ],
   "source": [
    "import os\n",
    "import subprocess\n",
    "import torch\n",
    "import torch.nn.functional as F\n",
    "from transformers import AutoTokenizer, AutoModel\n",
    "from pathlib import Path\n",
    "from pinecone import Pinecone, ServerlessSpec\n",
    "from sentence_transformers import SentenceTransformer"
   ]
  },
  {
   "cell_type": "code",
   "execution_count": 2,
   "metadata": {},
   "outputs": [],
   "source": [
    "# Set Pinecone Variables\n",
    "PINECONE_API_KEY = os.getenv('PINECONE_API_KEY')\n",
    "PINECONE_INDEX = os.getenv('PINECONE_INDEX')\n",
    "\n",
    "dimension = 768\n",
    "\n",
    "EMBEDDING_MODEL_REPO = \"sentence-transformers/all-mpnet-base-v2\"\n",
    "\n",
    "tokenizer = AutoTokenizer.from_pretrained(EMBEDDING_MODEL_REPO)\n",
    "model = AutoModel.from_pretrained(EMBEDDING_MODEL_REPO)"
   ]
  },
  {
   "cell_type": "code",
   "execution_count": 3,
   "metadata": {},
   "outputs": [],
   "source": [
    "def create_pinecone_collection(pc, index_name):\n",
    "    # try:\n",
    "    #     print(f\"Creating 768-dimensional index called '{index_name}'...\")\n",
    "    #     pc.create_index(index_name, dimension=dimension, spec=ServerlessSpec(\n",
    "    #         cloud=\"aws\",\n",
    "    #         region=\"us-east-1\"\n",
    "    #     ))\n",
    "    #     print(\"Success\")\n",
    "    # except Exception as e:\n",
    "    #     if hasattr(e, \"status_code\") and e.status_code == 409:\n",
    "    #         print(f\"Index '{index_name}' already exists. Continuing without creating a new index.\")\n",
    "    #     else:\n",
    "    #         print(f\"Failed to create index '{index_name}': {e}\")\n",
    "    #         raise\n",
    "    \n",
    "    print(\"Checking Pinecone for active indexes...\")\n",
    "    active_indexes = pc.list_indexes()\n",
    "    print(\"Active indexes:\")\n",
    "    print(active_indexes)\n",
    "    print(f\"Getting description for '{index_name}'...\")\n",
    "    index_description = pc.describe_index(index_name)\n",
    "    print(\"Description:\")\n",
    "    print(index_description)\n",
    "\n",
    "    print(f\"Getting '{index_name}' as object...\")\n",
    "    pinecone_index = pc.Index(index_name)\n",
    "    print(\"Success\")\n",
    "\n",
    "    return pinecone_index\n",
    "\n",
    "def mean_pooling(model_output, attention_mask):\n",
    "    token_embeddings = model_output[0]\n",
    "    input_mask_expanded = attention_mask.unsqueeze(-1).expand(token_embeddings.size()).float()\n",
    "    return torch.sum(token_embeddings * input_mask_expanded, 1) / torch.clamp(input_mask_expanded.sum(1), min=1e-9)\n",
    "\n",
    "def get_embeddings(sentence):\n",
    "    sentences = [sentence]\n",
    "    encoded_input = tokenizer(sentences, padding='max_length', truncation=True, return_tensors='pt')\n",
    "    with torch.no_grad():\n",
    "        model_output = model(**encoded_input)\n",
    "    sentence_embeddings = mean_pooling(model_output, encoded_input['attention_mask'])\n",
    "    sentence_embeddings = F.normalize(sentence_embeddings, p=2, dim=1)\n",
    "    return sentence_embeddings.tolist()[0]\n",
    "\n",
    "def insert_embedding(pinecone_index, id_path, text):\n",
    "    print(\"Upserting vectors...\")\n",
    "    vectors = [(text[:512], get_embeddings(text), {\"file_path\": id_path})]\n",
    "    try:\n",
    "        upsert_response = pinecone_index.upsert(vectors=vectors)\n",
    "        print(\"Success\")\n",
    "    except Exception as e:\n",
    "        print(f\"Failed to upsert vectors: {e}\")\n",
    "        raise"
   ]
  },
  {
   "cell_type": "code",
   "execution_count": 4,
   "metadata": {},
   "outputs": [
    {
     "name": "stdout",
     "output_type": "stream",
     "text": [
      "Initializing Pinecone connection...\n",
      "Pinecone initialized\n",
      "Checking Pinecone for active indexes...\n",
      "Active indexes:\n",
      "[{\n",
      "    \"name\": \"ecss-docs\",\n",
      "    \"dimension\": 768,\n",
      "    \"metric\": \"cosine\",\n",
      "    \"host\": \"ecss-docs-pjq8dn9.svc.aped-4627-b74a.pinecone.io\",\n",
      "    \"spec\": {\n",
      "        \"serverless\": {\n",
      "            \"cloud\": \"aws\",\n",
      "            \"region\": \"us-east-1\"\n",
      "        }\n",
      "    },\n",
      "    \"status\": {\n",
      "        \"ready\": true,\n",
      "        \"state\": \"Ready\"\n",
      "    },\n",
      "    \"deletion_protection\": \"disabled\"\n",
      "}]\n",
      "Getting description for 'ecss-docs'...\n",
      "Description:\n",
      "{'deletion_protection': 'disabled',\n",
      " 'dimension': 768,\n",
      " 'host': 'ecss-docs-pjq8dn9.svc.aped-4627-b74a.pinecone.io',\n",
      " 'metric': 'cosine',\n",
      " 'name': 'ecss-docs',\n",
      " 'spec': {'serverless': {'cloud': 'aws', 'region': 'us-east-1'}},\n",
      " 'status': {'ready': True, 'state': 'Ready'}}\n",
      "Getting 'ecss-docs' as object...\n",
      "Success\n",
      "Pinecone index is up, collection created\n",
      "Generating embeddings for: return_policy.txt\n",
      "Upserting vectors...\n",
      "Success\n",
      "Generating embeddings for: privacy_policy.txt\n",
      "Upserting vectors...\n",
      "Success\n",
      "Generating embeddings for: shipping_policy.txt\n",
      "Upserting vectors...\n",
      "Success\n",
      "Finished loading Knowledge Base embeddings into Pinecone\n"
     ]
    }
   ],
   "source": [
    "def main():\n",
    "    try:\n",
    "        print(\"Initializing Pinecone connection...\")\n",
    "        pc = Pinecone(api_key=PINECONE_API_KEY)\n",
    "        print(\"Pinecone initialized\")\n",
    "\n",
    "        collection = create_pinecone_collection(pc, PINECONE_INDEX)\n",
    "        print(\"Pinecone index is up, collection created\")\n",
    "\n",
    "        doc_dir = 'parsed'\n",
    "        for file in Path(doc_dir).glob('**/*.txt'):\n",
    "            with open(file, \"r\") as f:\n",
    "                print(\"Generating embeddings for: %s\" % file.name)\n",
    "                text = f.read()\n",
    "                insert_embedding(collection, os.path.abspath(file), text)\n",
    "        print('Finished loading Knowledge Base embeddings into Pinecone')\n",
    "\n",
    "    except Exception as e:\n",
    "        print(f\"An error occurred: {e}\")\n",
    "        raise\n",
    "\n",
    "if __name__ == \"__main__\":\n",
    "    main()"
   ]
  },
  {
   "cell_type": "code",
   "execution_count": null,
   "metadata": {},
   "outputs": [],
   "source": []
  }
 ],
 "metadata": {
  "kernelspec": {
   "display_name": "Python 3",
   "language": "python",
   "name": "python3"
  },
  "language_info": {
   "codemirror_mode": {
    "name": "ipython",
    "version": 3
   },
   "file_extension": ".py",
   "mimetype": "text/x-python",
   "name": "python",
   "nbconvert_exporter": "python",
   "pygments_lexer": "ipython3",
   "version": "3.10.14"
  }
 },
 "nbformat": 4,
 "nbformat_minor": 4
}
