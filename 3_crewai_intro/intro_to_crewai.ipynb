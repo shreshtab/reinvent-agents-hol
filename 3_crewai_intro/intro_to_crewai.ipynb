{
 "cells": [
  {
   "cell_type": "markdown",
   "metadata": {
    "id": "ANCxcFs-qVl4"
   },
   "source": [
    "# 4. Getting Started with CrewAI\n",
    "Welcome to the 4th exercise in the Cloudera Agentic AI Hands on Lab. In this notebook you will get familiar the CrewAI library and how we can leverage it with AWS Bedrock. This notebook is designed to walk you through the setup and application of these tools in an agentic worfklow context to create a robust and intelligence system. \n",
    "\n",
    "- **Configure Bedrock:** AWS Bedrock's large language models will serve as the backbone of our AI agents, providing the computational power and linguistic understanding necessary for processing complex queries.\n",
    "- **Set up CrewAI Agents and Tasks:** We will leverage the CrewAI library to set up our AI agents with clear roles, backstories and goals. We will also configure tasks for each agent to complete and identify tools that they can leverage to complete their tasks.\n",
    "- **Create Sequential Agentic Workflow:** Next, we will orchestrate these agents and tasks into a crew and workflow for them to complete.\n",
    "- **Running a Practical Example:** We will then run our example workflow by providing inputs for the agentic workflow to consider and then complete the tasks they are configured to do."
   ]
  },
  {
   "cell_type": "markdown",
   "metadata": {},
   "source": [
    "## 4.1 Configuring AWS Bedrock\n",
    "\n",
    "Let's start by configuring AWS Bedrock's Claude 3.5 Sonnet model as the Base Model we will use for the agents."
   ]
  },
  {
   "cell_type": "code",
   "execution_count": 1,
   "metadata": {},
   "outputs": [
    {
     "name": "stdout",
     "output_type": "stream",
     "text": [
      "2024-11-25 14:43:40,426 [embedchain] [INFO] Swapped std-lib sqlite3 with pysqlite3 for ChromaDb compatibility. Your original version was 3.31.1.\n"
     ]
    }
   ],
   "source": [
    "from crewai import Agent, Task, Crew, Process, LLM\n",
    "import os\n",
    "import litellm\n",
    "litellm.set_verbose=False\n",
    "llm = LLM(model=os.environ[\"AWS_BEDROCK_MODEL\"])"
   ]
  },
  {
   "cell_type": "code",
   "execution_count": 2,
   "metadata": {},
   "outputs": [],
   "source": [
    "import warnings\n",
    "warnings.filterwarnings('ignore')"
   ]
  },
  {
   "cell_type": "markdown",
   "metadata": {},
   "source": [
    "## 4.2 Set Up CrewAI Agents and Tasks\n",
    "\n",
    "Next, let's set up the relevant Agents and Tasks using the CrewAI library. We will define 2 agents - One Researcher and One Reporting Analyst, and they will be tasked to research the topic assigned to them. For the purpose of this exercise, we will rely on the LLM's trained knowledge and will not access the internet."
   ]
  },
  {
   "cell_type": "code",
   "execution_count": 3,
   "metadata": {
    "ExecuteTime": {
     "end_time": "2024-05-17T18:19:19.351863Z",
     "start_time": "2024-05-17T18:19:19.350191Z"
    },
    "cellView": "form",
    "id": "NsNLa6Qu0JEK"
   },
   "outputs": [],
   "source": [
    "from textwrap import dedent\n",
    "\n",
    "# First we define the Researcher Agent\n",
    "researcher_agent = Agent(\n",
    "    role=dedent((\n",
    "        \"\"\"\n",
    "        {topic} Senior Data Researcher\n",
    "        \"\"\")), # Think of this as the job title\n",
    "    backstory=dedent((\n",
    "        \"\"\"\n",
    "        You are a seasoned researcher with a knack for uncovering the latest developments in {topic}.\n",
    "\n",
    "        You are known for your ability to find the most relevant information and present it in a clear and concise manner.\n",
    "        \"\"\")), # This is the backstory of the agent, this helps the agent to understand the context of the task\n",
    "    goal=dedent((\n",
    "        \"\"\"\n",
    "        Uncover cutting-edge developments in {topic}. Try to keep final answers in markdown format.\n",
    "        \"\"\")), # This is the goal that the agent is trying to achieve\n",
    "    allow_delegation=False,\n",
    "    max_iter=2,\n",
    "    max_retry_limit=3,\n",
    "    max_retries=3,\n",
    "    llm=llm,\n",
    "    verbose=True\n",
    ")\n",
    "\n",
    "# Next, we define the Reporting Analyst\n",
    "reporting_analyst = Agent(\n",
    "    role=dedent((\n",
    "        \"\"\"\n",
    "        {topic} Reporting Analyst\n",
    "        \"\"\")),\n",
    "    backstory=dedent((\n",
    "        \"\"\"\n",
    "        You are a meticulous analyst with a keen eye for detail. You are known for your ability to turn complex data into clear and concise reports,\n",
    "        making it easy for others to understand and act on the information you provide.\n",
    "        \"\"\")),\n",
    "    goal=dedent((\n",
    "        \"\"\"\n",
    "        Create detailed reports based on {topic} data analysis and research findings.\n",
    "        \"\"\")), # This is the goal that the agent is trying to achieve\n",
    "    allow_delegation=False,\n",
    "    max_iter=2,\n",
    "    max_retry_limit=3,\n",
    "    max_retries=3,\n",
    "    llm=llm,\n",
    "    verbose=True\n",
    ")"
   ]
  },
  {
   "cell_type": "markdown",
   "metadata": {},
   "source": [
    "Next, let's define the tasks for our agents to complete."
   ]
  },
  {
   "cell_type": "code",
   "execution_count": 4,
   "metadata": {
    "ExecuteTime": {
     "end_time": "2024-05-17T18:20:26.741468Z",
     "start_time": "2024-05-17T18:19:29.015624Z"
    },
    "cellView": "form",
    "id": "P8iHNKCfk9Rv"
   },
   "outputs": [],
   "source": [
    "# First, let's create a task for the researcher agent. Note below that we define which agent completes which task.\n",
    "research_task = Task(\n",
    "    description=dedent((\n",
    "        \"\"\"\n",
    "        Conduct thorough research about {topic}\n",
    "\n",
    "        Make sure you find any interesting and relevant information given the current year is 2024.\n",
    "        \"\"\")),\n",
    "    expected_output=dedent((\n",
    "        \"\"\"\n",
    "        A list with 2 to 4 bullet points of the most relevant information about {topic}\n",
    "        \"\"\")),\n",
    "    agent=researcher_agent\n",
    ")\n",
    "\n",
    "reporting_task = Task(\n",
    "    description=dedent((\n",
    "        \"\"\"\n",
    "        Review the context you got and expand each topic into a full section for a report.\n",
    "        Make sure the report is detailed and contains any and all relevant information.\n",
    "        \"\"\")),\n",
    "    expected_output=dedent((\n",
    "        \"\"\"\n",
    "        A fully fledge reports with the mains topics, each with a full section of information.\n",
    "        Formatted as markdown without '```'\n",
    "        \"\"\")),\n",
    "    agent=reporting_analyst,\n",
    "    output_file='report.md',\n",
    "    context=[research_task]\n",
    ")"
   ]
  },
  {
   "cell_type": "markdown",
   "metadata": {},
   "source": [
    "## 4.3 Create Sequential Agentic AI Workflow\n",
    "\n",
    "Now, let's put all of this together by placing the discrete agents and tasks into a crew."
   ]
  },
  {
   "cell_type": "code",
   "execution_count": 5,
   "metadata": {
    "ExecuteTime": {
     "end_time": "2024-05-17T18:26:09.810103Z",
     "start_time": "2024-05-17T18:25:59.838229Z"
    },
    "cellView": "form",
    "id": "BhAt-unGk4kA"
   },
   "outputs": [],
   "source": [
    "crew = Crew(\n",
    "        agents=[researcher_agent, reporting_analyst],\n",
    "        tasks=[research_task, reporting_task],\n",
    "        verbose=True,  # You can set it to True or False\n",
    "        # ↑ indicates the verbosity level for logging during execution.\n",
    "        process=Process.sequential\n",
    "    )"
   ]
  },
  {
   "cell_type": "markdown",
   "metadata": {},
   "source": [
    "## 4.4 Running a Practical Example\n",
    "\n",
    "Now, let's put all of this together by placing the discrete agents and tasks into a crew. First, we define an input topic. Feel free to change the topic to something else."
   ]
  },
  {
   "cell_type": "code",
   "execution_count": 6,
   "metadata": {
    "ExecuteTime": {
     "end_time": "2024-05-17T18:26:14.680431Z",
     "start_time": "2024-05-17T18:26:14.561004Z"
    },
    "cellView": "form",
    "id": "hZJwUoXasrhx"
   },
   "outputs": [],
   "source": [
    "# Notice here that the object we pass maps to the {topic} field we added to the agents and tasks.\n",
    "inputs = {\n",
    "        \"topic\": \"AI LLMs\",\n",
    "}"
   ]
  },
  {
   "cell_type": "markdown",
   "metadata": {},
   "source": [
    "Next, we create a function to run the crew with the given input. We have enabled verbose logging to help you see the agents execute each task."
   ]
  },
  {
   "cell_type": "code",
   "execution_count": 7,
   "metadata": {},
   "outputs": [
    {
     "name": "stdout",
     "output_type": "stream",
     "text": [
      "\u001b[1m\u001b[95m# Agent:\u001b[00m \u001b[1m\u001b[92m\u001b[00m\n",
      "\u001b[95m## Task:\u001b[00m \u001b[92m\n",
      "Conduct thorough research about AI LLMs\n",
      "\n",
      "Make sure you find any interesting and relevant information given the current year is 2024.\n",
      "\u001b[00m\n",
      "\n",
      "\n",
      "\u001b[1m\u001b[95m# Agent:\u001b[00m \u001b[1m\u001b[92m\u001b[00m\n",
      "\u001b[95m## Final Answer:\u001b[00m \u001b[92m\n",
      "• Multimodal LLMs have become mainstream, with models like GPT-5 and PaLM-3 seamlessly integrating text, image, audio, and video understanding. These models can generate and manipulate content across multiple modalities, opening up new possibilities in creative industries and scientific research.\n",
      "\n",
      "• Ethical AI has taken center stage, with major tech companies and research institutions implementing strict guidelines for LLM development and deployment. This includes robust safeguards against biases, improved transparency in model decision-making, and clear disclosure of AI-generated content to combat misinformation.\n",
      "\n",
      "• LLMs have achieved near-human level performance in complex reasoning tasks, including mathematical problem-solving, scientific discovery, and legal analysis. This has led to their integration into specialized professional tools, augmenting human expertise in fields like medicine, engineering, and finance.\n",
      "\n",
      "• Energy-efficient LLMs have emerged, addressing concerns about the environmental impact of AI. New architectures and training methods have significantly reduced the carbon footprint of these models, making them more sustainable and accessible for widespread use.\u001b[00m\n",
      "\n",
      "\n",
      "\u001b[1m\u001b[95m# Agent:\u001b[00m \u001b[1m\u001b[92m\u001b[00m\n",
      "\u001b[95m## Task:\u001b[00m \u001b[92m\n",
      "Review the context you got and expand each topic into a full section for a report.\n",
      "Make sure the report is detailed and contains any and all relevant information.\n",
      "\u001b[00m\n",
      "\n",
      "\n",
      "\u001b[1m\u001b[95m# Agent:\u001b[00m \u001b[1m\u001b[92m\u001b[00m\n",
      "\u001b[95m## Final Answer:\u001b[00m \u001b[92m\n",
      "# AI LLMs Report: Current Trends and Developments\n",
      "\n",
      "## 1. Multimodal LLMs: The New Frontier\n",
      "\n",
      "Multimodal Large Language Models (LLMs) have revolutionized the AI landscape, marking a significant leap forward in machine learning capabilities. These advanced models, exemplified by GPT-5 and PaLM-3, have transcended traditional text-based limitations to encompass a broader spectrum of data types.\n",
      "\n",
      "### Key Features:\n",
      "- **Integrated Understanding**: Seamlessly process and interpret text, images, audio, and video inputs.\n",
      "- **Cross-Modal Generation**: Ability to create content across different modalities, such as generating images from text descriptions or transcribing speech to text.\n",
      "- **Unified Architecture**: A single model capable of handling multiple types of data, eliminating the need for separate specialized models.\n",
      "\n",
      "### Impact on Industries:\n",
      "- **Creative Sectors**: Revolutionizing content creation in fields like advertising, film, and digital art.\n",
      "- **Scientific Research**: Enhancing data analysis and visualization in complex scientific studies.\n",
      "- **Education**: Facilitating more engaging and interactive learning experiences.\n",
      "- **Healthcare**: Improving diagnostic processes by analyzing multiple types of medical data simultaneously.\n",
      "\n",
      "### Future Prospects:\n",
      "The continued development of multimodal LLMs is expected to lead to more intuitive human-computer interactions and unlock new possibilities in artificial general intelligence (AGI) research.\n",
      "\n",
      "## 2. Ethical AI: A Priority in LLM Development\n",
      "\n",
      "As LLMs become more powerful and pervasive, the focus on ethical considerations has intensified. Major tech companies and research institutions are now prioritizing the responsible development and deployment of these models.\n",
      "\n",
      "### Key Ethical Initiatives:\n",
      "- **Bias Mitigation**: Implementation of advanced techniques to identify and reduce biases in training data and model outputs.\n",
      "- **Transparency Measures**: Development of tools and methodologies to explain model decision-making processes, enhancing accountability.\n",
      "- **AI Content Disclosure**: Establishment of clear guidelines and technical solutions for identifying and labeling AI-generated content.\n",
      "\n",
      "### Industry Standards:\n",
      "- **Ethical Guidelines**: Creation and adoption of comprehensive ethical frameworks for AI development across the tech industry.\n",
      "- **Third-Party Audits**: Regular independent assessments of LLMs to ensure compliance with ethical standards.\n",
      "- **Stakeholder Engagement**: Collaboration with policymakers, ethicists, and the public to address societal concerns.\n",
      "\n",
      "### Challenges and Ongoing Efforts:\n",
      "- **Balancing Innovation and Regulation**: Striking the right balance between rapid technological advancement and necessary safeguards.\n",
      "- **Global Coordination**: Working towards international standards and regulations for AI ethics.\n",
      "- **Continuous Monitoring**: Implementing systems for ongoing evaluation and adjustment of ethical practices as LLMs evolve.\n",
      "\n",
      "## 3. Advanced Reasoning Capabilities in LLMs\n",
      "\n",
      "Recent advancements have propelled LLMs to achieve near-human level performance in complex reasoning tasks, significantly expanding their applicability across various professional domains.\n",
      "\n",
      "### Key Areas of Progress:\n",
      "- **Mathematical Problem-Solving**: Ability to understand and solve advanced mathematical concepts and equations.\n",
      "- **Scientific Discovery**: Assisting in hypothesis generation, data analysis, and literature review in scientific research.\n",
      "- **Legal Analysis**: Comprehending and interpreting complex legal documents and case law.\n",
      "\n",
      "### Integration into Professional Tools:\n",
      "- **Medical Diagnosis**: Enhancing diagnostic accuracy by analyzing patient data and medical literature.\n",
      "- **Engineering Design**: Assisting in complex engineering calculations and design optimization.\n",
      "- **Financial Modeling**: Improving risk assessment and market prediction models.\n",
      "\n",
      "### Impact on Professional Fields:\n",
      "- **Medicine**: Accelerating research, improving diagnosis accuracy, and personalizing treatment plans.\n",
      "- **Engineering**: Streamlining design processes and enabling more innovative solutions.\n",
      "- **Finance**: Enhancing risk management strategies and investment decision-making.\n",
      "\n",
      "### Future Directions:\n",
      "- **Collaborative AI**: Developing systems that can effectively collaborate with human experts, augmenting rather than replacing human intelligence.\n",
      "- **Interdisciplinary Applications**: Exploring the potential of LLMs in bridging gaps between different fields of expertise.\n",
      "- **Continuous Learning**: Implementing mechanisms for LLMs to update their knowledge base in real-time, ensuring relevance in rapidly evolving fields.\n",
      "\n",
      "## 4. Energy-Efficient LLMs: Sustainable AI\n",
      "\n",
      "Addressing the environmental concerns associated with large-scale AI models, significant strides have been made in developing energy-efficient LLMs.\n",
      "\n",
      "### Key Innovations:\n",
      "- **Optimized Architectures**: Design of more efficient model structures that require less computational power.\n",
      "- **Advanced Training Methods**: Implementation of techniques like knowledge distillation and pruning to reduce model size without sacrificing performance.\n",
      "- **Hardware Optimization**: Development of specialized AI hardware designed for energy-efficient model training and inference.\n",
      "\n",
      "### Environmental Impact:\n",
      "- **Reduced Carbon Footprint**: Significant decrease in the energy consumption and associated carbon emissions of LLM operations.\n",
      "- **Sustainable Scaling**: Enabling the growth of AI applications without proportional increase in environmental impact.\n",
      "\n",
      "### Accessibility Improvements:\n",
      "- **Wider Adoption**: Lower energy requirements making LLMs more accessible to smaller organizations and researchers.\n",
      "- **Edge Computing**: Facilitating the deployment of LLMs on less powerful devices, expanding their application in IoT and mobile technologies.\n",
      "\n",
      "### Ongoing Research:\n",
      "- **Quantum Computing Integration**: Exploring the potential of quantum computing to further reduce the energy footprint of LLMs.\n",
      "- **Bio-inspired Computing**: Drawing inspiration from the energy efficiency of biological neural networks to design more sustainable AI systems.\n",
      "- **Green AI Metrics**: Developing standardized metrics to measure and compare the environmental impact of different AI models and training methodologies.\n",
      "\n",
      "This comprehensive report outlines the current state and future prospects of AI Large Language Models, highlighting the transformative impact of multimodal capabilities, the critical focus on ethical AI development, the advancement in complex reasoning tasks, and the push towards energy-efficient, sustainable AI technologies. These developments collectively represent a significant leap forward in the field of artificial intelligence, with far-reaching implications for various industries and society as a whole.\u001b[00m\n",
      "\n",
      "\n"
     ]
    }
   ],
   "source": [
    "def run_crew():\n",
    "    result = crew.kickoff(inputs=inputs)\n",
    "run_crew()"
   ]
  },
  {
   "cell_type": "code",
   "execution_count": null,
   "metadata": {},
   "outputs": [],
   "source": []
  }
 ],
 "metadata": {
  "colab": {
   "include_colab_link": true,
   "private_outputs": true,
   "provenance": []
  },
  "kernelspec": {
   "display_name": "Python 3 (ipykernel)",
   "language": "python",
   "name": "python3"
  },
  "language_info": {
   "codemirror_mode": {
    "name": "ipython",
    "version": 3
   },
   "file_extension": ".py",
   "mimetype": "text/x-python",
   "name": "python",
   "nbconvert_exporter": "python",
   "pygments_lexer": "ipython3",
   "version": "3.10.14"
  }
 },
 "nbformat": 4,
 "nbformat_minor": 4
}
